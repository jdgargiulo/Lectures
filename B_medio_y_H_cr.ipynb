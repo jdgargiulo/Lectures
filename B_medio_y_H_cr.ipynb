{
  "nbformat": 4,
  "nbformat_minor": 0,
  "metadata": {
    "colab": {
      "provenance": [],
      "authorship_tag": "ABX9TyPVqP9S9af66Uhlkq+4GkLX",
      "include_colab_link": true
    },
    "kernelspec": {
      "name": "ir",
      "display_name": "R"
    },
    "language_info": {
      "name": "R"
    }
  },
  "cells": [
    {
      "cell_type": "markdown",
      "metadata": {
        "id": "view-in-github",
        "colab_type": "text"
      },
      "source": [
        "<a href=\"https://colab.research.google.com/github/jdgargiulo/Lectures/blob/main/B_medio_y_H_cr.ipynb\" target=\"_parent\"><img src=\"https://colab.research.google.com/assets/colab-badge.svg\" alt=\"Open In Colab\"/></a>"
      ]
    },
    {
      "cell_type": "markdown",
      "source": [
        "## **Algoritmo para cálculo automatizado de SIRM, B_1/2 y B_cr**"
      ],
      "metadata": {
        "id": "Y7lnaiWTyBb7"
      }
    },
    {
      "cell_type": "markdown",
      "source": [
        "NOTA: El SIRM se calcula como el valor máximo de la magnetización obtenida sobre la curva completa de adquisición, independientemente del campo aplicado."
      ],
      "metadata": {
        "id": "wEZQ7FJqyT1q"
      }
    },
    {
      "cell_type": "code",
      "source": [
        "library(tidyverse)"
      ],
      "metadata": {
        "colab": {
          "base_uri": "https://localhost:8080/"
        },
        "id": "eGVHOMFCzWUI",
        "outputId": "970790be-d119-4b0f-8bf1-545069e7b396"
      },
      "execution_count": 1,
      "outputs": [
        {
          "output_type": "stream",
          "name": "stderr",
          "text": [
            "── \u001b[1mAttaching core tidyverse packages\u001b[22m ──────────────────────── tidyverse 2.0.0 ──\n",
            "\u001b[32m✔\u001b[39m \u001b[34mdplyr    \u001b[39m 1.1.2     \u001b[32m✔\u001b[39m \u001b[34mreadr    \u001b[39m 2.1.4\n",
            "\u001b[32m✔\u001b[39m \u001b[34mforcats  \u001b[39m 1.0.0     \u001b[32m✔\u001b[39m \u001b[34mstringr  \u001b[39m 1.5.0\n",
            "\u001b[32m✔\u001b[39m \u001b[34mggplot2  \u001b[39m 3.4.3     \u001b[32m✔\u001b[39m \u001b[34mtibble   \u001b[39m 3.2.1\n",
            "\u001b[32m✔\u001b[39m \u001b[34mlubridate\u001b[39m 1.9.2     \u001b[32m✔\u001b[39m \u001b[34mtidyr    \u001b[39m 1.3.0\n",
            "\u001b[32m✔\u001b[39m \u001b[34mpurrr    \u001b[39m 1.0.2     \n",
            "── \u001b[1mConflicts\u001b[22m ────────────────────────────────────────── tidyverse_conflicts() ──\n",
            "\u001b[31m✖\u001b[39m \u001b[34mdplyr\u001b[39m::\u001b[32mfilter()\u001b[39m masks \u001b[34mstats\u001b[39m::filter()\n",
            "\u001b[31m✖\u001b[39m \u001b[34mdplyr\u001b[39m::\u001b[32mlag()\u001b[39m    masks \u001b[34mstats\u001b[39m::lag()\n",
            "\u001b[36mℹ\u001b[39m Use the conflicted package (\u001b[3m\u001b[34m<http://conflicted.r-lib.org/>\u001b[39m\u001b[23m) to force all conflicts to become errors\n"
          ]
        }
      ]
    },
    {
      "cell_type": "markdown",
      "source": [
        "# Cálculo de B 1/2"
      ],
      "metadata": {
        "id": "YvVkq0tNypyU"
      }
    },
    {
      "cell_type": "markdown",
      "source": [
        "Partimos teniendo un data frame con una primera columna que con el campo aplicado en mT y las suscecibas representando la adquisicción en mA/m con nombre de columna correspondiente al nombre dado a cada muestra, en formato de archivo tipo .csv. Este archivo se importa en R con el nombre irm (automáticamente)"
      ],
      "metadata": {
        "id": "QJX-2AdQyx6R"
      }
    },
    {
      "cell_type": "code",
      "source": [
        "irm<-read.csv(\"/content/irm.csv\", dec = \",\")"
      ],
      "metadata": {
        "id": "ck7WqRii22E4"
      },
      "execution_count": 3,
      "outputs": []
    },
    {
      "cell_type": "code",
      "execution_count": 4,
      "metadata": {
        "id": "w-fwUWT2xP9O"
      },
      "outputs": [],
      "source": [
        "campo<-irm %>% select(1)\n",
        "irm<- irm %>% select(-1)\n",
        "colnames(irm) <- paste0(\"m\", 1:ncol(irm))\n",
        "irm<-cbind(campo,irm)"
      ]
    },
    {
      "cell_type": "code",
      "source": [
        "View(irm)"
      ],
      "metadata": {
        "colab": {
          "base_uri": "https://localhost:8080/",
          "height": 913
        },
        "id": "U3YKPybE5ASJ",
        "outputId": "b3c7da91-effd-48a1-9f97-51b7ceee5a33"
      },
      "execution_count": 5,
      "outputs": [
        {
          "output_type": "display_data",
          "data": {
            "text/plain": [
              "   Field m1        m2        m3        m4        m5       \n",
              "1    10  0.2947595 0.2947595 0.2947595 0.2947595 0.2947595\n",
              "2    15  0.5620146 0.5620146 0.5620146 0.5620146 0.5620146\n",
              "3    21  0.9945081 0.9945081 0.9945081 0.9945081 0.9945081\n",
              "4    25  1.2563035 1.2563035 1.2563035 1.2563035 1.2563035\n",
              "5    29  1.5324674 1.5324674 1.5324674 1.5324674 1.5324674\n",
              "6    36  1.7784561 1.7784561 1.7784561 1.7784561 1.7784561\n",
              "7    41  1.9365107 1.9365107 1.9365107 1.9365107 1.9365107\n",
              "8    49  2.1664076 2.1664076 2.1664076 2.1664076 2.1664076\n",
              "9    60  2.2985984 2.2985984 2.2985984 2.2985984 2.2985984\n",
              "10   71  2.4135468 2.4135468 2.4135468 2.4135468 2.4135468\n",
              "11   80  2.4710210 2.4710210 2.4710210 2.4710210 2.4710210\n",
              "12   99  2.5428643 2.5428643 2.5428643 2.5428643 2.5428643\n",
              "13  123  2.6233282 2.6233282 2.6233282 2.6233282 2.6233282\n",
              "14  150  2.7354025 2.7354025 2.7354025 2.7354025 2.7354025\n",
              "15  200  2.9078252 2.9078252 2.9078252 2.9078252 2.9078252\n",
              "16  310  3.2210602 3.2210602 3.2210602 3.2210602 3.2210602\n",
              "17  400  3.4911880 3.4911880 3.4911880 3.4911880 3.4911880\n",
              "18  500  3.7182118 3.7182118 3.7182118 3.7182118 3.7182118\n",
              "19  760  4.0515623 4.0515623 4.0515623 4.0515623 4.0515623\n",
              "20 1000  4.2613427 4.2613427 4.2613427 4.2613427 4.2613427\n",
              "21 1230  4.3935344 4.3935344 4.3935344 4.3935344 4.3935344\n",
              "22 1510  4.4711241 4.4711241 4.4711241 4.4711241 4.4711241\n",
              "23 1790  4.5573355 4.5573355 4.5573355 4.5573355 4.5573355\n",
              "24 1990  4.5918200 4.5918200 4.5918200 4.5918200 4.5918200\n",
              "25 2230  4.6148097 4.6148097 4.6148097 4.6148097 4.6148097\n",
              "26 2470  4.6263045 4.6263045 4.6263045 4.6263045 4.6263045"
            ],
            "text/html": [
              "<table class=\"dataframe\">\n",
              "<caption>A data.frame: 26 × 6</caption>\n",
              "<thead>\n",
              "\t<tr><th scope=col>Field</th><th scope=col>m1</th><th scope=col>m2</th><th scope=col>m3</th><th scope=col>m4</th><th scope=col>m5</th></tr>\n",
              "\t<tr><th scope=col>&lt;int&gt;</th><th scope=col>&lt;dbl&gt;</th><th scope=col>&lt;dbl&gt;</th><th scope=col>&lt;dbl&gt;</th><th scope=col>&lt;dbl&gt;</th><th scope=col>&lt;dbl&gt;</th></tr>\n",
              "</thead>\n",
              "<tbody>\n",
              "\t<tr><td>  10</td><td>0.2947595</td><td>0.2947595</td><td>0.2947595</td><td>0.2947595</td><td>0.2947595</td></tr>\n",
              "\t<tr><td>  15</td><td>0.5620146</td><td>0.5620146</td><td>0.5620146</td><td>0.5620146</td><td>0.5620146</td></tr>\n",
              "\t<tr><td>  21</td><td>0.9945081</td><td>0.9945081</td><td>0.9945081</td><td>0.9945081</td><td>0.9945081</td></tr>\n",
              "\t<tr><td>  25</td><td>1.2563035</td><td>1.2563035</td><td>1.2563035</td><td>1.2563035</td><td>1.2563035</td></tr>\n",
              "\t<tr><td>  29</td><td>1.5324674</td><td>1.5324674</td><td>1.5324674</td><td>1.5324674</td><td>1.5324674</td></tr>\n",
              "\t<tr><td>  36</td><td>1.7784561</td><td>1.7784561</td><td>1.7784561</td><td>1.7784561</td><td>1.7784561</td></tr>\n",
              "\t<tr><td>  41</td><td>1.9365107</td><td>1.9365107</td><td>1.9365107</td><td>1.9365107</td><td>1.9365107</td></tr>\n",
              "\t<tr><td>  49</td><td>2.1664076</td><td>2.1664076</td><td>2.1664076</td><td>2.1664076</td><td>2.1664076</td></tr>\n",
              "\t<tr><td>  60</td><td>2.2985984</td><td>2.2985984</td><td>2.2985984</td><td>2.2985984</td><td>2.2985984</td></tr>\n",
              "\t<tr><td>  71</td><td>2.4135468</td><td>2.4135468</td><td>2.4135468</td><td>2.4135468</td><td>2.4135468</td></tr>\n",
              "\t<tr><td>  80</td><td>2.4710210</td><td>2.4710210</td><td>2.4710210</td><td>2.4710210</td><td>2.4710210</td></tr>\n",
              "\t<tr><td>  99</td><td>2.5428643</td><td>2.5428643</td><td>2.5428643</td><td>2.5428643</td><td>2.5428643</td></tr>\n",
              "\t<tr><td> 123</td><td>2.6233282</td><td>2.6233282</td><td>2.6233282</td><td>2.6233282</td><td>2.6233282</td></tr>\n",
              "\t<tr><td> 150</td><td>2.7354025</td><td>2.7354025</td><td>2.7354025</td><td>2.7354025</td><td>2.7354025</td></tr>\n",
              "\t<tr><td> 200</td><td>2.9078252</td><td>2.9078252</td><td>2.9078252</td><td>2.9078252</td><td>2.9078252</td></tr>\n",
              "\t<tr><td> 310</td><td>3.2210602</td><td>3.2210602</td><td>3.2210602</td><td>3.2210602</td><td>3.2210602</td></tr>\n",
              "\t<tr><td> 400</td><td>3.4911880</td><td>3.4911880</td><td>3.4911880</td><td>3.4911880</td><td>3.4911880</td></tr>\n",
              "\t<tr><td> 500</td><td>3.7182118</td><td>3.7182118</td><td>3.7182118</td><td>3.7182118</td><td>3.7182118</td></tr>\n",
              "\t<tr><td> 760</td><td>4.0515623</td><td>4.0515623</td><td>4.0515623</td><td>4.0515623</td><td>4.0515623</td></tr>\n",
              "\t<tr><td>1000</td><td>4.2613427</td><td>4.2613427</td><td>4.2613427</td><td>4.2613427</td><td>4.2613427</td></tr>\n",
              "\t<tr><td>1230</td><td>4.3935344</td><td>4.3935344</td><td>4.3935344</td><td>4.3935344</td><td>4.3935344</td></tr>\n",
              "\t<tr><td>1510</td><td>4.4711241</td><td>4.4711241</td><td>4.4711241</td><td>4.4711241</td><td>4.4711241</td></tr>\n",
              "\t<tr><td>1790</td><td>4.5573355</td><td>4.5573355</td><td>4.5573355</td><td>4.5573355</td><td>4.5573355</td></tr>\n",
              "\t<tr><td>1990</td><td>4.5918200</td><td>4.5918200</td><td>4.5918200</td><td>4.5918200</td><td>4.5918200</td></tr>\n",
              "\t<tr><td>2230</td><td>4.6148097</td><td>4.6148097</td><td>4.6148097</td><td>4.6148097</td><td>4.6148097</td></tr>\n",
              "\t<tr><td>2470</td><td>4.6263045</td><td>4.6263045</td><td>4.6263045</td><td>4.6263045</td><td>4.6263045</td></tr>\n",
              "</tbody>\n",
              "</table>\n"
            ],
            "text/markdown": "\nA data.frame: 26 × 6\n\n| Field &lt;int&gt; | m1 &lt;dbl&gt; | m2 &lt;dbl&gt; | m3 &lt;dbl&gt; | m4 &lt;dbl&gt; | m5 &lt;dbl&gt; |\n|---|---|---|---|---|---|\n|   10 | 0.2947595 | 0.2947595 | 0.2947595 | 0.2947595 | 0.2947595 |\n|   15 | 0.5620146 | 0.5620146 | 0.5620146 | 0.5620146 | 0.5620146 |\n|   21 | 0.9945081 | 0.9945081 | 0.9945081 | 0.9945081 | 0.9945081 |\n|   25 | 1.2563035 | 1.2563035 | 1.2563035 | 1.2563035 | 1.2563035 |\n|   29 | 1.5324674 | 1.5324674 | 1.5324674 | 1.5324674 | 1.5324674 |\n|   36 | 1.7784561 | 1.7784561 | 1.7784561 | 1.7784561 | 1.7784561 |\n|   41 | 1.9365107 | 1.9365107 | 1.9365107 | 1.9365107 | 1.9365107 |\n|   49 | 2.1664076 | 2.1664076 | 2.1664076 | 2.1664076 | 2.1664076 |\n|   60 | 2.2985984 | 2.2985984 | 2.2985984 | 2.2985984 | 2.2985984 |\n|   71 | 2.4135468 | 2.4135468 | 2.4135468 | 2.4135468 | 2.4135468 |\n|   80 | 2.4710210 | 2.4710210 | 2.4710210 | 2.4710210 | 2.4710210 |\n|   99 | 2.5428643 | 2.5428643 | 2.5428643 | 2.5428643 | 2.5428643 |\n|  123 | 2.6233282 | 2.6233282 | 2.6233282 | 2.6233282 | 2.6233282 |\n|  150 | 2.7354025 | 2.7354025 | 2.7354025 | 2.7354025 | 2.7354025 |\n|  200 | 2.9078252 | 2.9078252 | 2.9078252 | 2.9078252 | 2.9078252 |\n|  310 | 3.2210602 | 3.2210602 | 3.2210602 | 3.2210602 | 3.2210602 |\n|  400 | 3.4911880 | 3.4911880 | 3.4911880 | 3.4911880 | 3.4911880 |\n|  500 | 3.7182118 | 3.7182118 | 3.7182118 | 3.7182118 | 3.7182118 |\n|  760 | 4.0515623 | 4.0515623 | 4.0515623 | 4.0515623 | 4.0515623 |\n| 1000 | 4.2613427 | 4.2613427 | 4.2613427 | 4.2613427 | 4.2613427 |\n| 1230 | 4.3935344 | 4.3935344 | 4.3935344 | 4.3935344 | 4.3935344 |\n| 1510 | 4.4711241 | 4.4711241 | 4.4711241 | 4.4711241 | 4.4711241 |\n| 1790 | 4.5573355 | 4.5573355 | 4.5573355 | 4.5573355 | 4.5573355 |\n| 1990 | 4.5918200 | 4.5918200 | 4.5918200 | 4.5918200 | 4.5918200 |\n| 2230 | 4.6148097 | 4.6148097 | 4.6148097 | 4.6148097 | 4.6148097 |\n| 2470 | 4.6263045 | 4.6263045 | 4.6263045 | 4.6263045 | 4.6263045 |\n\n",
            "text/latex": "A data.frame: 26 × 6\n\\begin{tabular}{llllll}\n Field & m1 & m2 & m3 & m4 & m5\\\\\n <int> & <dbl> & <dbl> & <dbl> & <dbl> & <dbl>\\\\\n\\hline\n\t   10 & 0.2947595 & 0.2947595 & 0.2947595 & 0.2947595 & 0.2947595\\\\\n\t   15 & 0.5620146 & 0.5620146 & 0.5620146 & 0.5620146 & 0.5620146\\\\\n\t   21 & 0.9945081 & 0.9945081 & 0.9945081 & 0.9945081 & 0.9945081\\\\\n\t   25 & 1.2563035 & 1.2563035 & 1.2563035 & 1.2563035 & 1.2563035\\\\\n\t   29 & 1.5324674 & 1.5324674 & 1.5324674 & 1.5324674 & 1.5324674\\\\\n\t   36 & 1.7784561 & 1.7784561 & 1.7784561 & 1.7784561 & 1.7784561\\\\\n\t   41 & 1.9365107 & 1.9365107 & 1.9365107 & 1.9365107 & 1.9365107\\\\\n\t   49 & 2.1664076 & 2.1664076 & 2.1664076 & 2.1664076 & 2.1664076\\\\\n\t   60 & 2.2985984 & 2.2985984 & 2.2985984 & 2.2985984 & 2.2985984\\\\\n\t   71 & 2.4135468 & 2.4135468 & 2.4135468 & 2.4135468 & 2.4135468\\\\\n\t   80 & 2.4710210 & 2.4710210 & 2.4710210 & 2.4710210 & 2.4710210\\\\\n\t   99 & 2.5428643 & 2.5428643 & 2.5428643 & 2.5428643 & 2.5428643\\\\\n\t  123 & 2.6233282 & 2.6233282 & 2.6233282 & 2.6233282 & 2.6233282\\\\\n\t  150 & 2.7354025 & 2.7354025 & 2.7354025 & 2.7354025 & 2.7354025\\\\\n\t  200 & 2.9078252 & 2.9078252 & 2.9078252 & 2.9078252 & 2.9078252\\\\\n\t  310 & 3.2210602 & 3.2210602 & 3.2210602 & 3.2210602 & 3.2210602\\\\\n\t  400 & 3.4911880 & 3.4911880 & 3.4911880 & 3.4911880 & 3.4911880\\\\\n\t  500 & 3.7182118 & 3.7182118 & 3.7182118 & 3.7182118 & 3.7182118\\\\\n\t  760 & 4.0515623 & 4.0515623 & 4.0515623 & 4.0515623 & 4.0515623\\\\\n\t 1000 & 4.2613427 & 4.2613427 & 4.2613427 & 4.2613427 & 4.2613427\\\\\n\t 1230 & 4.3935344 & 4.3935344 & 4.3935344 & 4.3935344 & 4.3935344\\\\\n\t 1510 & 4.4711241 & 4.4711241 & 4.4711241 & 4.4711241 & 4.4711241\\\\\n\t 1790 & 4.5573355 & 4.5573355 & 4.5573355 & 4.5573355 & 4.5573355\\\\\n\t 1990 & 4.5918200 & 4.5918200 & 4.5918200 & 4.5918200 & 4.5918200\\\\\n\t 2230 & 4.6148097 & 4.6148097 & 4.6148097 & 4.6148097 & 4.6148097\\\\\n\t 2470 & 4.6263045 & 4.6263045 & 4.6263045 & 4.6263045 & 4.6263045\\\\\n\\end{tabular}\n"
          },
          "metadata": {}
        }
      ]
    },
    {
      "cell_type": "markdown",
      "source": [
        "Se genera un primer gráfico de adquisición vs log(campo) con la intersección en Y sobre la SIRM/2. Se toma el valor de SIRM como el máximo encontrado en la curva."
      ],
      "metadata": {
        "id": "5TIktw23zkF7"
      }
    },
    {
      "cell_type": "code",
      "source": [
        "irm %>% ggplot(aes(x=log10(Field), y=m1)) +\n",
        "  geom_point() +\n",
        "  geom_smooth(span=0.2)+\n",
        "  geom_hline(yintercept = max(irm$m1)/2)\n",
        "\n"
      ],
      "metadata": {
        "colab": {
          "base_uri": "https://localhost:8080/",
          "height": 454
        },
        "id": "LF2pWWmLzqpi",
        "outputId": "25704f7f-dd8d-4cd9-e44b-3bc3bd889e35"
      },
      "execution_count": 6,
      "outputs": [
        {
          "output_type": "stream",
          "name": "stderr",
          "text": [
            "\u001b[1m\u001b[22m`geom_smooth()` using method = 'loess' and formula = 'y ~ x'\n"
          ]
        },
        {
          "output_type": "display_data",
          "data": {
            "text/plain": [
              "plot without title"
            ],
            "image/png": "[encoded data removed]"
          },
          "metadata": {
            "image/png": {
              "width": 420,
              "height": 420
            }
          }
        }
      ]
    },
    {
      "cell_type": "markdown",
      "source": [
        "El segundo gráfico es igual al primero pero invertido en los ejes la adquisición sobre el eje X, y el log(campo) en el eje Y"
      ],
      "metadata": {
        "id": "8FqvC29hz6Z6"
      }
    },
    {
      "cell_type": "code",
      "source": [
        "irm %>% ggplot(aes(y=log10(Field), x=m1)) +\n",
        "  geom_point() +\n",
        "  geom_smooth(span=0.2)+\n",
        "  geom_vline(xintercept = 0.5*max(irm$m1))"
      ],
      "metadata": {
        "colab": {
          "base_uri": "https://localhost:8080/",
          "height": 454
        },
        "id": "1bB3LE6WztqQ",
        "outputId": "69a19961-2746-42e6-e347-18cf3110fb8a"
      },
      "execution_count": 7,
      "outputs": [
        {
          "output_type": "stream",
          "name": "stderr",
          "text": [
            "\u001b[1m\u001b[22m`geom_smooth()` using method = 'loess' and formula = 'y ~ x'\n"
          ]
        },
        {
          "output_type": "display_data",
          "data": {
            "text/plain": [
              "plot without title"
            ],
            "image/png": "[encoded data removed]"
          },
          "metadata": {
            "image/png": {
              "width": 420,
              "height": 420
            }
          }
        }
      ]
    },
    {
      "cell_type": "code",
      "source": [
        "adq<-irm %>% select(-Field)"
      ],
      "metadata": {
        "id": "evf2mCYi0ArK"
      },
      "execution_count": 8,
      "outputs": []
    },
    {
      "cell_type": "markdown",
      "source": [
        "Se ajusta una fuanción de suavizado loess (regresión local polinómica) donde de la variable de respuesta es el campo aplicado, y la regresora es la magnetización adquirida."
      ],
      "metadata": {
        "id": "ya55ydns0K20"
      }
    },
    {
      "cell_type": "code",
      "source": [
        "loess.filter <- function(x, y, span) {\n",
        "  loess_fit <- loess(y ~ x, span = span)\n",
        "  return(loess_fit)\n",
        "}"
      ],
      "metadata": {
        "id": "3tHHzQ5R0d2h"
      },
      "execution_count": 9,
      "outputs": []
    },
    {
      "cell_type": "markdown",
      "source": [
        "Aplicamos la función loess.filter a cada columna del DF adq"
      ],
      "metadata": {
        "id": "peHKT3Pk0v8l"
      }
    },
    {
      "cell_type": "code",
      "source": [
        "suavizado <- lapply(adq, loess.filter, y = log10(irm$Field), span = 0.2)"
      ],
      "metadata": {
        "id": "CJSeRuJi0ezS"
      },
      "execution_count": 10,
      "outputs": []
    },
    {
      "cell_type": "markdown",
      "source": [
        "Evaluamos la función en cada SIRM/2 para hallar los B1/2"
      ],
      "metadata": {
        "id": "4fWAJojG02eg"
      }
    },
    {
      "cell_type": "code",
      "source": [
        "predictions <- lapply(suavizado, function(loess_fit) {\n",
        "  predict(loess_fit, newdata = data.frame(x = 0.5*(apply(adq, 2, max))))})"
      ],
      "metadata": {
        "id": "GhR1tdLW0kQq"
      },
      "execution_count": 11,
      "outputs": []
    },
    {
      "cell_type": "markdown",
      "source": [
        "Construye un nuevo DF con nombre de muestra, SIRM, SIRM/2 y B1/2"
      ],
      "metadata": {
        "id": "t7KzSj-p1Cs4"
      }
    },
    {
      "cell_type": "code",
      "source": [
        "for (i in ncol(irm)) {\n",
        "  SIRM<-\n",
        "    data.frame(muestra=colnames(irm[2:ncol(irm)]),\n",
        "               SIRM=max(irm[i]),\n",
        "               SIRM_2=max(irm[i])/2,\n",
        "               B_medio=10**predictions[[1]])\n",
        "}"
      ],
      "metadata": {
        "id": "hsbK4AuD0ngh"
      },
      "execution_count": 12,
      "outputs": []
    },
    {
      "cell_type": "code",
      "source": [
        "View(SIRM)"
      ],
      "metadata": {
        "colab": {
          "base_uri": "https://localhost:8080/",
          "height": 255
        },
        "id": "tTNYC22F6yxJ",
        "outputId": "3242a934-bc8f-4e10-e104-169960ee0dd7"
      },
      "execution_count": 13,
      "outputs": [
        {
          "output_type": "display_data",
          "data": {
            "text/plain": [
              "   muestra SIRM     SIRM_2   B_medio \n",
              "m1 m1      4.626305 2.313152 61.02617\n",
              "m2 m2      4.626305 2.313152 61.02617\n",
              "m3 m3      4.626305 2.313152 61.02617\n",
              "m4 m4      4.626305 2.313152 61.02617\n",
              "m5 m5      4.626305 2.313152 61.02617"
            ],
            "text/html": [
              "<table class=\"dataframe\">\n",
              "<caption>A data.frame: 5 × 4</caption>\n",
              "<thead>\n",
              "\t<tr><th></th><th scope=col>muestra</th><th scope=col>SIRM</th><th scope=col>SIRM_2</th><th scope=col>B_medio</th></tr>\n",
              "\t<tr><th></th><th scope=col>&lt;chr&gt;</th><th scope=col>&lt;dbl&gt;</th><th scope=col>&lt;dbl&gt;</th><th scope=col>&lt;dbl&gt;</th></tr>\n",
              "</thead>\n",
              "<tbody>\n",
              "\t<tr><th scope=row>m1</th><td>m1</td><td>4.626305</td><td>2.313152</td><td>61.02617</td></tr>\n",
              "\t<tr><th scope=row>m2</th><td>m2</td><td>4.626305</td><td>2.313152</td><td>61.02617</td></tr>\n",
              "\t<tr><th scope=row>m3</th><td>m3</td><td>4.626305</td><td>2.313152</td><td>61.02617</td></tr>\n",
              "\t<tr><th scope=row>m4</th><td>m4</td><td>4.626305</td><td>2.313152</td><td>61.02617</td></tr>\n",
              "\t<tr><th scope=row>m5</th><td>m5</td><td>4.626305</td><td>2.313152</td><td>61.02617</td></tr>\n",
              "</tbody>\n",
              "</table>\n"
            ],
            "text/markdown": "\nA data.frame: 5 × 4\n\n| <!--/--> | muestra &lt;chr&gt; | SIRM &lt;dbl&gt; | SIRM_2 &lt;dbl&gt; | B_medio &lt;dbl&gt; |\n|---|---|---|---|---|\n| m1 | m1 | 4.626305 | 2.313152 | 61.02617 |\n| m2 | m2 | 4.626305 | 2.313152 | 61.02617 |\n| m3 | m3 | 4.626305 | 2.313152 | 61.02617 |\n| m4 | m4 | 4.626305 | 2.313152 | 61.02617 |\n| m5 | m5 | 4.626305 | 2.313152 | 61.02617 |\n\n",
            "text/latex": "A data.frame: 5 × 4\n\\begin{tabular}{r|llll}\n  & muestra & SIRM & SIRM\\_2 & B\\_medio\\\\\n  & <chr> & <dbl> & <dbl> & <dbl>\\\\\n\\hline\n\tm1 & m1 & 4.626305 & 2.313152 & 61.02617\\\\\n\tm2 & m2 & 4.626305 & 2.313152 & 61.02617\\\\\n\tm3 & m3 & 4.626305 & 2.313152 & 61.02617\\\\\n\tm4 & m4 & 4.626305 & 2.313152 & 61.02617\\\\\n\tm5 & m5 & 4.626305 & 2.313152 & 61.02617\\\\\n\\end{tabular}\n"
          },
          "metadata": {}
        }
      ]
    },
    {
      "cell_type": "markdown",
      "source": [
        "# Calculo de H_cr"
      ],
      "metadata": {
        "id": "LWNLMi4wh0-Z"
      }
    },
    {
      "cell_type": "markdown",
      "source": [
        "El DF debe de tener el campo en primera columna, y las columnas siguientes serán las magnetizaciones en campo reverso para cada columna."
      ],
      "metadata": {
        "id": "ciM37rFriKNJ"
      }
    },
    {
      "cell_type": "code",
      "source": [
        "campo<-backfield %>% select(1)\n",
        "back<- backfield %>% select(-1)\n",
        "colnames(back) <- paste0(\"m\", 1:ncol(backfield))\n",
        "backfield<-cbind(campo,back)"
      ],
      "metadata": {
        "colab": {
          "base_uri": "https://localhost:8080/",
          "height": 158
        },
        "id": "SuflpP0CjM7E",
        "outputId": "8d6b748c-9fb7-4a54-e735-f46bb873ccca"
      },
      "execution_count": 14,
      "outputs": [
        {
          "output_type": "error",
          "ename": "ERROR",
          "evalue": "ignored",
          "traceback": [
            "Error in eval(expr, envir, enclos): object 'backfield' not found\nTraceback:\n",
            "1. backfield %>% select(1)",
            "2. select(., 1)"
          ]
        }
      ]
    },
    {
      "cell_type": "code",
      "source": [
        "backfield %>% ggplot(aes(x=log10(Field), y=m1)) +\n",
        "  geom_point() +\n",
        "  geom_smooth(span=0.2)"
      ],
      "metadata": {
        "id": "8rl5n5k1jSPC"
      },
      "execution_count": null,
      "outputs": []
    },
    {
      "cell_type": "code",
      "source": [
        "back<-backfield %>% select(-Field)"
      ],
      "metadata": {
        "id": "8g9svXQYjZoE"
      },
      "execution_count": null,
      "outputs": []
    },
    {
      "cell_type": "code",
      "source": [
        "suavizadoB <- lapply(back, loess.filter, y = log10(backfield$Field), span = 0.2)"
      ],
      "metadata": {
        "id": "r5_mSRFNjfv6"
      },
      "execution_count": null,
      "outputs": []
    },
    {
      "cell_type": "code",
      "source": [
        "predictionsB <- lapply(suavizadoB, function(loess_fit) {\n",
        "  predict(loess_fit, newdata = data.frame(x = 0))})\n"
      ],
      "metadata": {
        "id": "cAED1ZWRjlai"
      },
      "execution_count": null,
      "outputs": []
    },
    {
      "cell_type": "code",
      "source": [
        "for (i in ncol(irm)) {\n",
        "  SIRM<-\n",
        "    data.frame(muestra=colnames(irm[2:ncol(irm)]),\n",
        "               SIRM=max(irm[i]),\n",
        "               SIRM_2=max(irm[i])/2,\n",
        "               B_medio=10**predictions[[1]],\n",
        "               Hcr=predictionsB)\n",
        "}\n"
      ],
      "metadata": {
        "id": "HoUZIQBWjqzm"
      },
      "execution_count": null,
      "outputs": []
    }
  ]
}