{
  "nbformat": 4,
  "nbformat_minor": 0,
  "metadata": {
    "colab": {
      "provenance": [],
      "include_colab_link": true
    },
    "kernelspec": {
      "name": "ir",
      "display_name": "R"
    },
    "language_info": {
      "name": "R"
    }
  },
  "cells": [
    {
      "cell_type": "markdown",
      "metadata": {
        "id": "view-in-github",
        "colab_type": "text"
      },
      "source": [
        "<a href=\"https://colab.research.google.com/github/jdgargiulo/Lectures/blob/main/Script_de_evaluaci%C3%B3n_de_ciclones.ipynb\" target=\"_parent\"><img src=\"https://colab.research.google.com/assets/colab-badge.svg\" alt=\"Open In Colab\"/></a>"
      ]
    },
    {
      "cell_type": "markdown",
      "source": [
        "# Script para evaluar la eficiencia de un ciclón siguiendo la tería de Leith y Licht, desarrollada en \"Diseño Óptimo de Ciclones\" de  Echeverri Londoño, 2006. "
      ],
      "metadata": {
        "id": "p8KpRyKwmyAm"
      }
    },
    {
      "cell_type": "markdown",
      "source": [
        "Autor: cátedra Tratamiento de Efluentes Gaseosos, FcEx, UNCPBA, 2023\n",
        "\n",
        "\n",
        "---\n",
        "\n"
      ],
      "metadata": {
        "id": "KEdislbdnR7Y"
      }
    },
    {
      "cell_type": "markdown",
      "source": [
        "\n",
        "**TUTORIAL:**\n",
        "\n",
        "*   IMPORTANTE!! antes de modificar algo, guarden una copia en su drive y trabajen sobre su copia\n",
        "* ARCHIVO->GUARDAR COPIA EN DRIVE\n",
        "\n",
        "\n",
        "*   Editar los parámetros y ejecutar cada celda de código (click en símbolo de play que aparece cuando se posicionan sobre el código)\n",
        "\n",
        "*   Revisar ecuaciones, puede que halla cometido errores de tipeo\n",
        "\n",
        "*   Prestar atención a unidades\n",
        "\n",
        "*   Revisar los valores de velocidad de saltación\n"
      ],
      "metadata": {
        "id": "mewnVGrExNC2"
      }
    },
    {
      "cell_type": "markdown",
      "source": [
        "# Parámetros iniciales"
      ],
      "metadata": {
        "id": "S1TSVxrWoIAB"
      }
    },
    {
      "cell_type": "code",
      "source": [
        "rop<-2000                              # densidad de partículas [kg/m3]\n",
        "Dp<-seq(0.0000001,0.00003,0.0000001)  # diámetro de particlas [m]\n",
        "Q<-0.00278                            # caudal entrada [m3/s]"
      ],
      "metadata": {
        "id": "-qwao6eqoRt9"
      },
      "execution_count": null,
      "outputs": []
    },
    {
      "cell_type": "markdown",
      "source": [
        "# 1) Definimos los parámetros físicos de diseño (editar dimensiones características)"
      ],
      "metadata": {
        "id": "c4atTZh_opQR"
      }
    },
    {
      "cell_type": "markdown",
      "source": [
        "![ciclon.jpg](data:image/jpeg;base64,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)"
      ],
      "metadata": {
        "id": "JgN4Xa8so-L6"
      }
    },
    {
      "cell_type": "code",
      "source": [
        "Dc<-0.05    # Diámetro del ciclón [m]\n",
        "\n",
        "a<-0.5*Dc    # Altura de entrada (0.018m en turbina)\n",
        "b<-0.25*Dc   # Ancho de entrada  (0.012m en turbina)\n",
        "S<-0.625*Dc  # Altura de salida\n",
        "Ds<-0.5*Dc   # Diámetro de salida\n",
        "h<-2*Dc      # Altura parte cilíndrica\n",
        "z<-2*Dc      # Altura parte cónica\n",
        "H<-4*Dc      # Altura total del ciclón\n",
        "B<-0.25*Dc   # Diámetro de salida partículas\n",
        "Vi<-Q/(a*b)  # Velocidad de ingreso\n",
        "print(paste(\"Largo del ciclón [metros]:\",H))\n",
        "print(paste(\"Velocidad de ingreso[m/s]:\",Vi))"
      ],
      "metadata": {
        "colab": {
          "base_uri": "https://localhost:8080/"
        },
        "id": "r327fB-soysI",
        "outputId": "d07d4bbd-8066-46cb-e7f3-85d967682e09"
      },
      "execution_count": null,
      "outputs": [
        {
          "output_type": "stream",
          "name": "stdout",
          "text": [
            "[1] \"Largo del ciclón [metros]: 0.2\"\n",
            "[1] \"Velocidad de ingreso[m/s]: 8.896\"\n"
          ]
        }
      ]
    },
    {
      "cell_type": "markdown",
      "source": [
        "# 2) FACTOR DE CONFIGURACIÓN"
      ],
      "metadata": {
        "id": "KR2U1E1Bp6Cj"
      }
    },
    {
      "cell_type": "code",
      "source": [
        "# 2.1) Longitud natural del ciclón (L)\n",
        "L<- 2.9*Ds*(Dc**2/(a*b))**(1/3)\n",
        "ifelse(L<H-S,print(\"Long natural correcta\"), print(\"long natural incorrecta\"))\n",
        "\n",
        "# 2.2) Volumen evaluado sobre la salida del ciclón (Vsc)\n",
        "Vsc<-(pi/4)*(S-a/2)*(Dc**2-Ds**2)\n",
        "\n",
        "# 2.3) Volumen del ciclón evaluado sobre la long natural (Vr)\n",
        "Kl<-Dc-(Dc-B)*((S+L-h)/z)\n",
        "Vr<-(pi/4)*Dc**2*(h-S)+(pi/12)*Dc**2*(L+S-h)*(1+(Kl/Dc)+(Kl/Dc)**2)-(pi/4)*Ds**2*L\n",
        "\n",
        "# 2.4) Factor de dimensionalidad de proporciones volumétricas (Kc)\n",
        "Kc<-(Vsc+Vr/2)/(Dc**3)\n",
        "\n",
        "\n",
        "# 2.5) Factor de Configuración (G)\n",
        "G<- 8*Kc/((a/Dc*b/Dc)**2)\n",
        "print(paste(\"Factor de Configuración:\",G))"
      ],
      "metadata": {
        "colab": {
          "base_uri": "https://localhost:8080/",
          "height": 69
        },
        "id": "xEMZ240ip8ob",
        "outputId": "c1832708-0459-4325-9b32-8cca0f8f09ca"
      },
      "execution_count": null,
      "outputs": [
        {
          "output_type": "stream",
          "name": "stdout",
          "text": [
            "[1] \"Long natural correcta\"\n"
          ]
        },
        {
          "output_type": "display_data",
          "data": {
            "text/html": [
              "'Long natural correcta'"
            ],
            "text/markdown": "'Long natural correcta'",
            "text/latex": "'Long natural correcta'",
            "text/plain": [
              "[1] \"Long natural correcta\""
            ]
          },
          "metadata": {}
        },
        {
          "output_type": "stream",
          "name": "stdout",
          "text": [
            "[1] \"Factor de Configuración: 408.484750297464\"\n"
          ]
        }
      ]
    },
    {
      "cell_type": "markdown",
      "source": [
        "# 3) TIEMPO DE RELAJACIÓN"
      ],
      "metadata": {
        "id": "_i-48QRvqHGL"
      }
    },
    {
      "cell_type": "code",
      "source": [
        "Ti<-(rop*Dp**2)/(18*0.0000174)\n"
      ],
      "metadata": {
        "id": "EqvQ8IJPqKl5"
      },
      "execution_count": null,
      "outputs": []
    },
    {
      "cell_type": "markdown",
      "source": [
        "# 4) EXPONENTE DE VÓRTICE"
      ],
      "metadata": {
        "id": "queQde3YqMyJ"
      }
    },
    {
      "cell_type": "code",
      "source": [
        "n<- 1-(1-0.67*Dc**0.14)*(273/283)**0.3\n",
        "print(paste(\"Exponente de Vórtice:\",n))"
      ],
      "metadata": {
        "colab": {
          "base_uri": "https://localhost:8080/"
        },
        "id": "ZejRKoGPqP6O",
        "outputId": "24758d34-9182-404e-9eda-4541a4444cc3"
      },
      "execution_count": null,
      "outputs": [
        {
          "output_type": "stream",
          "name": "stdout",
          "text": [
            "[1] \"Exponente de Vórtice: 0.446490591700199\"\n"
          ]
        }
      ]
    },
    {
      "cell_type": "markdown",
      "source": [
        "# 5) EFICIENCIA FRACCIONAL"
      ],
      "metadata": {
        "id": "8YQtDQzlqXDO"
      }
    },
    {
      "cell_type": "code",
      "source": [
        "E<-1-exp(-2*(G*Ti*Q*(n+1)/Dc**3)**(0.5/(n+1)))\n",
        "Eficiencia<-data.frame(Dp*10**6,E)\n",
        "head(Eficiencia,20)"
      ],
      "metadata": {
        "colab": {
          "base_uri": "https://localhost:8080/",
          "height": 725
        },
        "id": "rXROoqPnqa2S",
        "outputId": "17a39b76-bbb5-447d-97ae-e38e12d507a9"
      },
      "execution_count": null,
      "outputs": [
        {
          "output_type": "display_data",
          "data": {
            "text/html": [
              "<table class=\"dataframe\">\n",
              "<caption>A data.frame: 20 × 2</caption>\n",
              "<thead>\n",
              "\t<tr><th></th><th scope=col>Dp...10.6</th><th scope=col>E</th></tr>\n",
              "\t<tr><th></th><th scope=col>&lt;dbl&gt;</th><th scope=col>&lt;dbl&gt;</th></tr>\n",
              "</thead>\n",
              "<tbody>\n",
              "\t<tr><th scope=row>1</th><td>0.1</td><td>0.1587497</td></tr>\n",
              "\t<tr><th scope=row>2</th><td>0.2</td><td>0.2435651</td></tr>\n",
              "\t<tr><th scope=row>3</th><td>0.3</td><td>0.3088866</td></tr>\n",
              "\t<tr><th scope=row>4</th><td>0.4</td><td>0.3628467</td></tr>\n",
              "\t<tr><th scope=row>5</th><td>0.5</td><td>0.4089942</td></tr>\n",
              "\t<tr><th scope=row>6</th><td>0.6</td><td>0.4493075</td></tr>\n",
              "\t<tr><th scope=row>7</th><td>0.7</td><td>0.4850403</td></tr>\n",
              "\t<tr><th scope=row>8</th><td>0.8</td><td>0.5170535</td></tr>\n",
              "\t<tr><th scope=row>9</th><td>0.9</td><td>0.5459716</td></tr>\n",
              "\t<tr><th scope=row>10</th><td>1.0</td><td>0.5722665</td></tr>\n",
              "\t<tr><th scope=row>11</th><td>1.1</td><td>0.5963058</td></tr>\n",
              "\t<tr><th scope=row>12</th><td>1.2</td><td>0.6183828</td></tr>\n",
              "\t<tr><th scope=row>13</th><td>1.3</td><td>0.6387362</td></tr>\n",
              "\t<tr><th scope=row>14</th><td>1.4</td><td>0.6575634</td></tr>\n",
              "\t<tr><th scope=row>15</th><td>1.5</td><td>0.6750300</td></tr>\n",
              "\t<tr><th scope=row>16</th><td>1.6</td><td>0.6912764</td></tr>\n",
              "\t<tr><th scope=row>17</th><td>1.7</td><td>0.7064228</td></tr>\n",
              "\t<tr><th scope=row>18</th><td>1.8</td><td>0.7205732</td></tr>\n",
              "\t<tr><th scope=row>19</th><td>1.9</td><td>0.7338179</td></tr>\n",
              "\t<tr><th scope=row>20</th><td>2.0</td><td>0.7462362</td></tr>\n",
              "</tbody>\n",
              "</table>\n"
            ],
            "text/markdown": "\nA data.frame: 20 × 2\n\n| <!--/--> | Dp...10.6 &lt;dbl&gt; | E &lt;dbl&gt; |\n|---|---|---|\n| 1 | 0.1 | 0.1587497 |\n| 2 | 0.2 | 0.2435651 |\n| 3 | 0.3 | 0.3088866 |\n| 4 | 0.4 | 0.3628467 |\n| 5 | 0.5 | 0.4089942 |\n| 6 | 0.6 | 0.4493075 |\n| 7 | 0.7 | 0.4850403 |\n| 8 | 0.8 | 0.5170535 |\n| 9 | 0.9 | 0.5459716 |\n| 10 | 1.0 | 0.5722665 |\n| 11 | 1.1 | 0.5963058 |\n| 12 | 1.2 | 0.6183828 |\n| 13 | 1.3 | 0.6387362 |\n| 14 | 1.4 | 0.6575634 |\n| 15 | 1.5 | 0.6750300 |\n| 16 | 1.6 | 0.6912764 |\n| 17 | 1.7 | 0.7064228 |\n| 18 | 1.8 | 0.7205732 |\n| 19 | 1.9 | 0.7338179 |\n| 20 | 2.0 | 0.7462362 |\n\n",
            "text/latex": "A data.frame: 20 × 2\n\\begin{tabular}{r|ll}\n  & Dp...10.6 & E\\\\\n  & <dbl> & <dbl>\\\\\n\\hline\n\t1 & 0.1 & 0.1587497\\\\\n\t2 & 0.2 & 0.2435651\\\\\n\t3 & 0.3 & 0.3088866\\\\\n\t4 & 0.4 & 0.3628467\\\\\n\t5 & 0.5 & 0.4089942\\\\\n\t6 & 0.6 & 0.4493075\\\\\n\t7 & 0.7 & 0.4850403\\\\\n\t8 & 0.8 & 0.5170535\\\\\n\t9 & 0.9 & 0.5459716\\\\\n\t10 & 1.0 & 0.5722665\\\\\n\t11 & 1.1 & 0.5963058\\\\\n\t12 & 1.2 & 0.6183828\\\\\n\t13 & 1.3 & 0.6387362\\\\\n\t14 & 1.4 & 0.6575634\\\\\n\t15 & 1.5 & 0.6750300\\\\\n\t16 & 1.6 & 0.6912764\\\\\n\t17 & 1.7 & 0.7064228\\\\\n\t18 & 1.8 & 0.7205732\\\\\n\t19 & 1.9 & 0.7338179\\\\\n\t20 & 2.0 & 0.7462362\\\\\n\\end{tabular}\n",
            "text/plain": [
              "   Dp...10.6 E        \n",
              "1  0.1       0.1587497\n",
              "2  0.2       0.2435651\n",
              "3  0.3       0.3088866\n",
              "4  0.4       0.3628467\n",
              "5  0.5       0.4089942\n",
              "6  0.6       0.4493075\n",
              "7  0.7       0.4850403\n",
              "8  0.8       0.5170535\n",
              "9  0.9       0.5459716\n",
              "10 1.0       0.5722665\n",
              "11 1.1       0.5963058\n",
              "12 1.2       0.6183828\n",
              "13 1.3       0.6387362\n",
              "14 1.4       0.6575634\n",
              "15 1.5       0.6750300\n",
              "16 1.6       0.6912764\n",
              "17 1.7       0.7064228\n",
              "18 1.8       0.7205732\n",
              "19 1.9       0.7338179\n",
              "20 2.0       0.7462362"
            ]
          },
          "metadata": {}
        }
      ]
    },
    {
      "cell_type": "code",
      "source": [
        "# con este código exportan la tabla de eficiencia generada\n",
        "# click derecho en el archivo generado para descargarlo \n",
        "write.csv(Eficiencia, file=\"Eficiencia.csv\", row.names=FALSE)"
      ],
      "metadata": {
        "id": "_xzAiZu52jju"
      },
      "execution_count": null,
      "outputs": []
    },
    {
      "cell_type": "markdown",
      "source": [
        "# 6) VELOCIDAD DE SALTACIÓN\n"
      ],
      "metadata": {
        "id": "fKdUV8AKqswC"
      }
    },
    {
      "cell_type": "code",
      "source": [
        "# 5.1) Velocidad equivalente (W)\n",
        "W<-(4*9.81*0.0000174*(rop-1)/(3*1**2))**(1/3)\n",
        "\n",
        "# 5.2 ) Vel de saltación (Vs)\n",
        "Vs<-4.913*W*(b/Dc)**0.4*Dc**0.067*Vi**(2/3)/(1-b/Dc)**(1/3)\n",
        "print(paste(\"Velocidad de saltación[m/s]:\",Vs))\n",
        "ifelse(Vi>1.35*Vs, print(\"Vel de entrada muy alta\"), print(\"Vel de entrada normal\"))"
      ],
      "metadata": {
        "colab": {
          "base_uri": "https://localhost:8080/",
          "height": 69
        },
        "id": "B-pT-bBnquM1",
        "outputId": "baa12114-4646-40a8-b28b-6ca7abeaf423"
      },
      "execution_count": null,
      "outputs": [
        {
          "output_type": "stream",
          "name": "stdout",
          "text": [
            "[1] \"Velocidad de saltación[m/s]: 8.39047308082432\"\n",
            "[1] \"Vel de entrada normal\"\n"
          ]
        },
        {
          "output_type": "display_data",
          "data": {
            "text/html": [
              "'Vel de entrada normal'"
            ],
            "text/markdown": "'Vel de entrada normal'",
            "text/latex": "'Vel de entrada normal'",
            "text/plain": [
              "[1] \"Vel de entrada normal\""
            ]
          },
          "metadata": {}
        }
      ]
    },
    {
      "cell_type": "markdown",
      "source": [
        "# 7) ESTIMACIÓN DE CAIDA DE PRESIÓN (Eq de Shepherd y Lapple)"
      ],
      "metadata": {
        "id": "xEt9dCc6q6nY"
      }
    },
    {
      "cell_type": "code",
      "source": [
        "# 6.1) N de Cabezas de velocidad a la entrada\n",
        "\n",
        "Nh<-16*(a*b)/(Ds**2)    ## K=16\n",
        "\n",
        "## 6.2) Caída de presión [Pa]\n",
        "\n",
        "DeltaP<-0.5*1*Vi**2*Nh\n",
        "print(paste(\"Caída de presión [Pa]:\",DeltaP))"
      ],
      "metadata": {
        "colab": {
          "base_uri": "https://localhost:8080/"
        },
        "id": "49pvEojpq9n_",
        "outputId": "80df6cfc-809f-4817-afc0-d90215a596a5"
      },
      "execution_count": null,
      "outputs": [
        {
          "output_type": "stream",
          "name": "stdout",
          "text": [
            "[1] \"Caída de presión [Pa]: 316.555264\"\n"
          ]
        }
      ]
    },
    {
      "cell_type": "markdown",
      "source": [
        "# **RESUMEN:**"
      ],
      "metadata": {
        "id": "hywIKxr0MIW4"
      }
    },
    {
      "cell_type": "code",
      "source": [
        "plot(Dp*10**6,E, xlab = \"Diametro de partícula [micrones]\", ylab = \"Eficiencia\")\n",
        "data.frame(parámetro=c(\"Caudal de ingreso\",\n",
        "             \"Velocidad de ingreso\",\n",
        "              \"Diámetro del ciclón\",\n",
        "             \"Largo del ciclón\",\n",
        "             \"Largo de parte ciclíndrica\",\n",
        "             \"Largo de parte cónica\",\n",
        "             \"Velocidad de saltación\",\n",
        "             \"Caída de presión\"),\n",
        "             Valor=c(Q, Vi,Dc,H,h,z,Vs,DeltaP)\n",
        "  \n",
        ")"
      ],
      "metadata": {
        "colab": {
          "base_uri": "https://localhost:8080/",
          "height": 769
        },
        "id": "ZzoO3zKIqnRR",
        "outputId": "d222015e-feff-4021-cb55-b7d08027edcb"
      },
      "execution_count": null,
      "outputs": [
        {
          "output_type": "display_data",
          "data": {
            "text/html": [
              "<table class=\"dataframe\">\n",
              "<caption>A data.frame: 8 × 2</caption>\n",
              "<thead>\n",
              "\t<tr><th scope=col>parámetro</th><th scope=col>Valor</th></tr>\n",
              "\t<tr><th scope=col>&lt;chr&gt;</th><th scope=col>&lt;dbl&gt;</th></tr>\n",
              "</thead>\n",
              "<tbody>\n",
              "\t<tr><td>Caudal de ingreso         </td><td>  0.002780</td></tr>\n",
              "\t<tr><td>Velocidad de ingreso      </td><td>  8.896000</td></tr>\n",
              "\t<tr><td>Diámetro del ciclón       </td><td>  0.050000</td></tr>\n",
              "\t<tr><td>Largo del ciclón          </td><td>  0.200000</td></tr>\n",
              "\t<tr><td>Largo de parte ciclíndrica</td><td>  0.100000</td></tr>\n",
              "\t<tr><td>Largo de parte cónica     </td><td>  0.100000</td></tr>\n",
              "\t<tr><td>Velocidad de saltación    </td><td>  8.390473</td></tr>\n",
              "\t<tr><td>Caída de presión          </td><td>316.555264</td></tr>\n",
              "</tbody>\n",
              "</table>\n"
            ],
            "text/markdown": "\nA data.frame: 8 × 2\n\n| parámetro &lt;chr&gt; | Valor &lt;dbl&gt; |\n|---|---|\n| Caudal de ingreso          |   0.002780 |\n| Velocidad de ingreso       |   8.896000 |\n| Diámetro del ciclón        |   0.050000 |\n| Largo del ciclón           |   0.200000 |\n| Largo de parte ciclíndrica |   0.100000 |\n| Largo de parte cónica      |   0.100000 |\n| Velocidad de saltación     |   8.390473 |\n| Caída de presión           | 316.555264 |\n\n",
            "text/latex": "A data.frame: 8 × 2\n\\begin{tabular}{ll}\n parámetro & Valor\\\\\n <chr> & <dbl>\\\\\n\\hline\n\t Caudal de ingreso          &   0.002780\\\\\n\t Velocidad de ingreso       &   8.896000\\\\\n\t Diámetro del ciclón        &   0.050000\\\\\n\t Largo del ciclón           &   0.200000\\\\\n\t Largo de parte ciclíndrica &   0.100000\\\\\n\t Largo de parte cónica      &   0.100000\\\\\n\t Velocidad de saltación     &   8.390473\\\\\n\t Caída de presión           & 316.555264\\\\\n\\end{tabular}\n",
            "text/plain": [
              "  parámetro                  Valor     \n",
              "1 Caudal de ingreso            0.002780\n",
              "2 Velocidad de ingreso         8.896000\n",
              "3 Diámetro del ciclón          0.050000\n",
              "4 Largo del ciclón             0.200000\n",
              "5 Largo de parte ciclíndrica   0.100000\n",
              "6 Largo de parte cónica        0.100000\n",
              "7 Velocidad de saltación       8.390473\n",
              "8 Caída de presión           316.555264"
            ]
          },
          "metadata": {}
        },
        {
          "output_type": "display_data",
          "data": {
            "text/plain": [
              "plot without title"
            ],
            "image/png": "[encoded data removed]"
          },
          "metadata": {
            "image/png": {
              "width": 420,
              "height": 420
            }
          }
        }
      ]
    },
    {
      "cell_type": "markdown",
      "source": [],
      "metadata": {
        "id": "ZiDy3lV2xwEI"
      }
    },
    {
      "cell_type": "markdown",
      "source": [
        "\n",
        "# Tiempo estimado para recolectar material"
      ],
      "metadata": {
        "id": "WLOo1l_JOl3v"
      }
    },
    {
      "cell_type": "code",
      "source": [
        "# 1) TSP: MP sedimentable total (rangos 50-100 micrones)\n",
        "# suponemos una concentración media de 100 microgramos/m3 de TSP y eficiencia 100%\n",
        "C<-100\n",
        "MasaTSP<-Q*C*86400/100000 # masa diaria recolectada en gramos\n",
        "print(paste(\"Potencial masa de TSP a recuperar[g/día]:\",MasaTSP))\n",
        "print(paste(\"Potencial masa de TSP en 30 días [g]:\",MasaTSP*30))"
      ],
      "metadata": {
        "colab": {
          "base_uri": "https://localhost:8080/"
        },
        "id": "Z-Tmzw_nO8up",
        "outputId": "e81f4fd4-bb65-494a-f614-da995c7afd8b"
      },
      "execution_count": null,
      "outputs": [
        {
          "output_type": "stream",
          "name": "stdout",
          "text": [
            "[1] \"Potencial masa de TSP a recuperar[g/día]: 0.240192\"\n",
            "[1] \"Potencial masa de TSP en 30 días [g]: 7.20576\"\n"
          ]
        }
      ]
    },
    {
      "cell_type": "code",
      "source": [
        "# 2) MP10: valores de referencia para Tandil tomados de Sosa et al 2017\n",
        "C_10<-25\n",
        "Ti_10<-(rop*0.00001**2)/(18*0.0000174)\n",
        "E_10<-1-exp(-2*(G*Ti_10*Q*(n+1)/Dc**3)**(0.5/(n+1)))\n",
        "print(paste(\"Eficiencia de colección MP10:\",E_10))\n",
        "Masa_10<-Q*C_10*86400/100000\n",
        "print(paste(\"Potencial masa de MP10 a recuperar[g/día]:\",Masa_10))\n",
        "print(paste(\"Potencial masa de MP10 en 30 días [g]:\",Masa_10*30))"
      ],
      "metadata": {
        "colab": {
          "base_uri": "https://localhost:8080/"
        },
        "id": "DUQAbYm2IXvl",
        "outputId": "344b4965-6a26-40ad-b009-f8696d5e5c35"
      },
      "execution_count": null,
      "outputs": [
        {
          "output_type": "stream",
          "name": "stdout",
          "text": [
            "[1] \"Eficiencia de colección MP10: 0.984581901467039\"\n",
            "[1] \"Potencial masa de MP10 a recuperar[g/día]: 0.060048\"\n",
            "[1] \"Potencial masa de MP10 en 30 días [g]: 1.80144\"\n"
          ]
        }
      ]
    },
    {
      "cell_type": "code",
      "source": [
        "# 3) MP2.5: valores de referencia para Tandil tomados de Sosa et al 2017\n",
        "C_25<-10\n",
        "Ti_25<-(rop*0.0000025**2)/(18*0.0000174)\n",
        "E_25<-1-exp(-2*(G*Ti_25*Q*(n+1)/Dc**3)**(0.5/(n+1)))\n",
        "print(paste(\"Eficiencia de colección MP2.5:\",E_25))\n",
        "Masa_25<-Q*C_25*86400/100000\n",
        "print(paste(\"Potencial masa de MP2.5 a recuperar[g/día]:\",Masa_25))\n",
        "print(paste(\"Potencial masa de MP2.5 en 30 días [g]:\",Masa_25*30))"
      ],
      "metadata": {
        "colab": {
          "base_uri": "https://localhost:8080/"
        },
        "id": "tPJn1lUbKwvE",
        "outputId": "b2b7a955-5f84-42b8-9008-85e69ee68e8d"
      },
      "execution_count": null,
      "outputs": [
        {
          "output_type": "stream",
          "name": "stdout",
          "text": [
            "[1] \"Eficiencia de colección MP2.5: 0.79812234013023\"\n",
            "[1] \"Potencial masa de MP2.5 a recuperar[g/día]: 0.0240192\"\n",
            "[1] \"Potencial masa de MP2.5 en 30 días [g]: 0.720576\"\n"
          ]
        }
      ]
    }
  ]
}